{
 "cells": [
  {
   "cell_type": "code",
   "execution_count": 1,
   "id": "afe29d96",
   "metadata": {
    "cell_id": "00000-9dd976b3-a8e7-40c8-966f-a15f5c76b05d",
    "deepnote_cell_type": "code",
    "deepnote_to_be_reexecuted": false,
    "execution_millis": 3314,
    "execution_start": 1640609887999,
    "source_hash": "bbdd45a3"
   },
   "outputs": [
    {
     "name": "stdout",
     "output_type": "stream",
     "text": [
      "Requirement already satisfied: uszipcode in c:\\users\\migue\\anaconda3\\lib\\site-packages (1.0.1)"
     ]
    },
    {
     "name": "stderr",
     "output_type": "stream",
     "text": [
      "\n",
      "[notice] A new release of pip is available: 23.0.1 -> 23.1\n",
      "[notice] To update, run: python.exe -m pip install --upgrade pip\n"
     ]
    },
    {
     "name": "stdout",
     "output_type": "stream",
     "text": [
      "\n",
      "Requirement already satisfied: requests in c:\\users\\migue\\anaconda3\\lib\\site-packages (from uszipcode) (2.26.0)\n",
      "Requirement already satisfied: haversine>=2.5.0 in c:\\users\\migue\\anaconda3\\lib\\site-packages (from uszipcode) (2.5.1)\n",
      "Requirement already satisfied: SQLAlchemy>=1.4.0 in c:\\users\\migue\\anaconda3\\lib\\site-packages (from uszipcode) (1.4.22)\n",
      "Requirement already satisfied: attrs in c:\\users\\migue\\anaconda3\\lib\\site-packages (from uszipcode) (21.2.0)\n",
      "Requirement already satisfied: fuzzywuzzy in c:\\users\\migue\\anaconda3\\lib\\site-packages (from uszipcode) (0.18.0)\n",
      "Requirement already satisfied: sqlalchemy-mate>=1.4.28.3 in c:\\users\\migue\\anaconda3\\lib\\site-packages (from uszipcode) (1.4.28.3)\n",
      "Requirement already satisfied: atomicwrites in c:\\users\\migue\\anaconda3\\lib\\site-packages (from uszipcode) (1.4.0)\n",
      "Requirement already satisfied: pathlib-mate in c:\\users\\migue\\anaconda3\\lib\\site-packages (from uszipcode) (1.0.2)\n",
      "Requirement already satisfied: greenlet!=0.4.17 in c:\\users\\migue\\anaconda3\\lib\\site-packages (from SQLAlchemy>=1.4.0->uszipcode) (1.1.1)\n",
      "Requirement already satisfied: prettytable in c:\\users\\migue\\anaconda3\\lib\\site-packages (from sqlalchemy-mate>=1.4.28.3->uszipcode) (3.0.0)\n",
      "Requirement already satisfied: six in c:\\users\\migue\\anaconda3\\lib\\site-packages (from pathlib-mate->uszipcode) (1.16.0)\n",
      "Requirement already satisfied: autopep8 in c:\\users\\migue\\anaconda3\\lib\\site-packages (from pathlib-mate->uszipcode) (1.5.7)\n",
      "Requirement already satisfied: charset-normalizer~=2.0.0 in c:\\users\\migue\\anaconda3\\lib\\site-packages (from requests->uszipcode) (2.0.4)\n",
      "Requirement already satisfied: urllib3<1.27,>=1.21.1 in c:\\users\\migue\\anaconda3\\lib\\site-packages (from requests->uszipcode) (1.26.7)\n",
      "Requirement already satisfied: idna<4,>=2.5 in c:\\users\\migue\\anaconda3\\lib\\site-packages (from requests->uszipcode) (3.2)\n",
      "Requirement already satisfied: certifi>=2017.4.17 in c:\\users\\migue\\anaconda3\\lib\\site-packages (from requests->uszipcode) (2022.12.7)\n",
      "Requirement already satisfied: pycodestyle>=2.7.0 in c:\\users\\migue\\anaconda3\\lib\\site-packages (from autopep8->pathlib-mate->uszipcode) (2.7.0)\n",
      "Requirement already satisfied: toml in c:\\users\\migue\\anaconda3\\lib\\site-packages (from autopep8->pathlib-mate->uszipcode) (0.10.2)\n",
      "Requirement already satisfied: wcwidth in c:\\users\\migue\\anaconda3\\lib\\site-packages (from prettytable->sqlalchemy-mate>=1.4.28.3->uszipcode) (0.2.5)\n"
     ]
    }
   ],
   "source": [
    "#https://uszipcode.readthedocs.io/index.html\n",
    "!pip install uszipcode"
   ]
  },
  {
   "cell_type": "code",
   "execution_count": 2,
   "id": "bcc1d6b1",
   "metadata": {
    "cell_id": "00001-0ae37cef-6caf-4ac9-89ec-0ef2dc950a2c",
    "deepnote_cell_type": "code",
    "deepnote_to_be_reexecuted": false,
    "execution_millis": 738,
    "execution_start": 1640609891318,
    "source_hash": "9262b941"
   },
   "outputs": [],
   "source": [
    "import pandas as pd\n",
    "import numpy as np\n",
    "\n",
    "from sklearn.model_selection import train_test_split\n",
    "\n",
    "#to set off the annoying copy warning\n",
    "pd.set_option('mode.chained_assignment', None) #'warn'"
   ]
  },
  {
   "cell_type": "code",
   "execution_count": 3,
   "id": "22e59373",
   "metadata": {
    "cell_id": "00002-e7c928d1-7b38-4469-beb4-ee3b7e491705",
    "deepnote_cell_type": "code",
    "deepnote_to_be_reexecuted": false,
    "execution_millis": 387,
    "execution_start": 1640609892059,
    "source_hash": "f9b93d2b"
   },
   "outputs": [
    {
     "name": "stderr",
     "output_type": "stream",
     "text": [
      "C:\\Users\\migue\\anaconda3\\lib\\site-packages\\fuzzywuzzy\\fuzz.py:11: UserWarning: Using slow pure-python SequenceMatcher. Install python-Levenshtein to remove this warning\n",
      "  warnings.warn('Using slow pure-python SequenceMatcher. Install python-Levenshtein to remove this warning')\n"
     ]
    }
   ],
   "source": [
    "from uszipcode import SearchEngine"
   ]
  },
  {
   "cell_type": "code",
   "execution_count": 4,
   "id": "577e746e",
   "metadata": {
    "cell_id": "00003-fbb252e8-675e-46c1-9dd7-13b21fceadb7",
    "deepnote_cell_type": "code",
    "deepnote_to_be_reexecuted": false,
    "execution_millis": 14,
    "execution_start": 1640609892447,
    "source_hash": "3321d458"
   },
   "outputs": [],
   "source": [
    "search = SearchEngine()"
   ]
  },
  {
   "cell_type": "code",
   "execution_count": 5,
   "id": "eb34a702",
   "metadata": {},
   "outputs": [],
   "source": [
    "pd.set_option('display.max_columns', 100)"
   ]
  },
  {
   "cell_type": "code",
   "execution_count": 6,
   "id": "c6eca28f",
   "metadata": {
    "cell_id": "00004-9e135be3-ca77-41eb-8336-1f16d03daea3",
    "deepnote_cell_type": "code",
    "deepnote_output_heights": [
     null,
     21.1875
    ],
    "deepnote_to_be_reexecuted": false,
    "execution_millis": 4086,
    "execution_start": 1640609892465,
    "scrolled": true,
    "source_hash": "b9a422e6"
   },
   "outputs": [
    {
     "name": "stderr",
     "output_type": "stream",
     "text": [
      "C:\\Users\\migue\\anaconda3\\lib\\site-packages\\IPython\\core\\interactiveshell.py:3444: DtypeWarning: Columns (12) have mixed types.Specify dtype option on import or set low_memory=False.\n",
      "  exec(code_obj, self.user_global_ns, self.user_ns)\n"
     ]
    }
   ],
   "source": [
    "#Get the data from: https://www.kaggle.com/datasets/ananaymital/us-used-cars-dataset\n",
    "df = pd.read_csv('used_cars_data.csv')"
   ]
  },
  {
   "cell_type": "code",
   "execution_count": null,
   "id": "c8f4316d",
   "metadata": {},
   "outputs": [],
   "source": [
    "#Columns we will nedd later on\n",
    "df['state'] = 'NN'\n",
    "df['elec_year'] = 0"
   ]
  },
  {
   "cell_type": "code",
   "execution_count": 7,
   "id": "a1556d7c",
   "metadata": {},
   "outputs": [],
   "source": [
    "df.head()"
   ]
  },
  {
   "cell_type": "code",
   "execution_count": 8,
   "id": "baaa9736",
   "metadata": {},
   "outputs": [],
   "source": [
    "df = df.where(pd.notnull(df), None)\n",
    "nullPercentage = df.isnull().mean() * 100"
   ]
  },
  {
   "cell_type": "code",
   "execution_count": 9,
   "id": "4f448c28",
   "metadata": {},
   "outputs": [],
   "source": [
    "under_10_nulls = nullPercentage[nullPercentage < 10].index.values"
   ]
  },
  {
   "cell_type": "code",
   "execution_count": 10,
   "id": "aa369a65",
   "metadata": {},
   "outputs": [],
   "source": [
    "under_10_nulls = np.append(under_10_nulls, 'city_fuel_economy')"
   ]
  },
  {
   "cell_type": "code",
   "execution_count": 11,
   "id": "8ff4f2be",
   "metadata": {},
   "outputs": [],
   "source": [
    "df = df[under_10_nulls]"
   ]
  },
  {
   "cell_type": "code",
   "execution_count": 12,
   "id": "1e6231e6",
   "metadata": {},
   "outputs": [],
   "source": [
    "df.drop('description',inplace=True,axis=1)"
   ]
  },
  {
   "cell_type": "code",
   "execution_count": 13,
   "id": "e9cfbb2f",
   "metadata": {},
   "outputs": [],
   "source": [
    "#drop cars where is_new == true, as we are only interested in used cars\n",
    "df = df[df.is_new != True]\n",
    "df = df.reset_index(drop=True)"
   ]
  },
  {
   "cell_type": "code",
   "execution_count": 14,
   "id": "e5bee780",
   "metadata": {},
   "outputs": [],
   "source": [
    "#adding state to cars dataframe in relation to dealer's zipcode\n",
    "for row in range(len(df)):\n",
    "    zip_car = df['dealer_zip'][row]\n",
    "    zipcode = search.by_zipcode(zip_car)\n",
    "    zipcode = zipcode.to_dict()\n",
    "    df['state'][row] = zipcode['state']"
   ]
  },
  {
   "cell_type": "markdown",
   "id": "a0eb9a12",
   "metadata": {},
   "source": [
    "## Missing values imputation"
   ]
  },
  {
   "cell_type": "code",
   "execution_count": 15,
   "id": "2dbc2fe1",
   "metadata": {},
   "outputs": [],
   "source": [
    "from sklearn.base import TransformerMixin\n",
    "\n",
    "class DataFrameImputer(TransformerMixin):\n",
    "\n",
    "    def __init__(self):\n",
    "        \"\"\"Impute missing values.\n",
    "\n",
    "        Columns of dtype object are imputed with the most frequent value \n",
    "        in column.\n",
    "\n",
    "        Columns of other types are imputed with mean of column.\n",
    "\n",
    "        \"\"\"\n",
    "    def fit(self, X, y=None):\n",
    "\n",
    "        self.fill = pd.Series([X[c].value_counts().index[0]\n",
    "            if X[c].dtype == np.dtype('O') else X[c].mean() for c in X],\n",
    "            index=X.columns)\n",
    "\n",
    "        return self\n",
    "\n",
    "    def transform(self, X, y=None):\n",
    "        return X.fillna(self.fill)"
   ]
  },
  {
   "cell_type": "code",
   "execution_count": 16,
   "id": "b0d227d8",
   "metadata": {},
   "outputs": [],
   "source": [
    "df = DataFrameImputer().fit_transform(df)"
   ]
  },
  {
   "cell_type": "code",
   "execution_count": 17,
   "id": "8311cff6",
   "metadata": {},
   "outputs": [],
   "source": [
    "nullPercentage = df.isnull().mean() * 100"
   ]
  },
  {
   "cell_type": "markdown",
   "id": "983b18de",
   "metadata": {},
   "source": [
    "## Feature transformation (Anders code)"
   ]
  },
  {
   "cell_type": "code",
   "execution_count": 18,
   "id": "8b904072",
   "metadata": {},
   "outputs": [],
   "source": [
    "df[\"back_legroom\"] = df[\"back_legroom\"].str.split(\" \",expand=True)[0].values\n",
    "df[\"front_legroom\"] = df[\"front_legroom\"].str.split(\" \",expand=True)[0].values\n",
    "df[\"fuel_tank_volume\"] = df[\"fuel_tank_volume\"].str.split(\" \",expand=True)[0].values\n",
    "df[\"height\"] = df[\"height\"].str.split(\" \",expand=True)[0].values\n",
    "df[\"length\"] = df[\"length\"].str.split(\" \",expand=True)[0].values\n",
    "df[\"wheelbase\"] = df[\"wheelbase\"].str.split(\" \",expand=True)[0].values\n",
    "df[\"width\"] = df[\"width\"].str.split(\" \",expand=True)[0].values\n",
    "df[\"maximum_seating\"] = df[\"maximum_seating\"].str.split(\" \",expand=True)[0].values"
   ]
  },
  {
   "cell_type": "markdown",
   "id": "c19cf353",
   "metadata": {},
   "source": [
    "## Converting to numeric (Anders code)"
   ]
  },
  {
   "cell_type": "code",
   "execution_count": 19,
   "id": "17591258",
   "metadata": {},
   "outputs": [],
   "source": [
    "columns_to_numeric = [\"back_legroom\",'front_legroom','fuel_tank_volume','height','length','width','maximum_seating']"
   ]
  },
  {
   "cell_type": "code",
   "execution_count": 20,
   "id": "7536f073",
   "metadata": {},
   "outputs": [],
   "source": [
    "df = df.replace('--',None)"
   ]
  },
  {
   "cell_type": "code",
   "execution_count": 21,
   "id": "fea22aa0",
   "metadata": {},
   "outputs": [],
   "source": [
    "df[columns_to_numeric] = df[columns_to_numeric].apply(pd.to_numeric)"
   ]
  },
  {
   "cell_type": "code",
   "execution_count": 22,
   "id": "ef61cf6f",
   "metadata": {},
   "outputs": [],
   "source": [
    "pd.set_option('display.max_columns', 500)"
   ]
  },
  {
   "cell_type": "code",
   "execution_count": 23,
   "id": "33aeb55b",
   "metadata": {},
   "outputs": [],
   "source": [
    "#df.head()"
   ]
  },
  {
   "cell_type": "markdown",
   "id": "ca1029ad",
   "metadata": {
    "cell_id": "00005-92e75952-6ed1-4a50-9e27-1236d1351b29",
    "deepnote_cell_type": "code",
    "deepnote_output_heights": [
     21.1875
    ],
    "deepnote_to_be_reexecuted": false,
    "execution_millis": 233,
    "execution_start": 1640609896560,
    "source_hash": "f503a33",
    "tags": []
   },
   "source": [
    "## Processing US election data. \n",
    "We want the elected party per year per state\n"
   ]
  },
  {
   "cell_type": "code",
   "execution_count": 25,
   "id": "1c7f8047",
   "metadata": {
    "cell_id": "00005-ef4866a6-5156-451b-bcb4-0a1eb36b42af",
    "deepnote_cell_type": "code",
    "deepnote_to_be_reexecuted": false,
    "execution_millis": 12,
    "execution_start": 1640609896565,
    "source_hash": "d6a44d37"
   },
   "outputs": [],
   "source": [
    "df_election = pd.read_csv('1976-2020-president.csv')\n",
    "col_drop = ['state_ic', 'state_fips', 'state_cen', 'party_detailed', 'writein', 'totalvotes', 'version', 'notes']\n",
    "df_election = df_election.drop(columns = col_drop)"
   ]
  },
  {
   "cell_type": "code",
   "execution_count": 26,
   "id": "c8e7d64e",
   "metadata": {
    "cell_id": "00006-6aa4d6cf-7f02-4896-ac00-bf0de8ba0999",
    "deepnote_cell_type": "code",
    "deepnote_to_be_reexecuted": false,
    "execution_millis": 45,
    "execution_start": 1640609896583,
    "source_hash": "b74887cb"
   },
   "outputs": [],
   "source": [
    "df_states_hist_election = pd.DataFrame()\n",
    "df_states_hist_election = df_election.loc[df_election.groupby([\"year\", \"state\"])[\"candidatevotes\"].idxmax()]\n",
    "\n",
    "years = pd.unique(df_states_hist_election['year'])\n",
    "#states = pd.unique(df_states_hist_election['state_po'])"
   ]
  },
  {
   "cell_type": "code",
   "execution_count": 27,
   "id": "2b43cd4f",
   "metadata": {},
   "outputs": [],
   "source": [
    "#most approx election year. f.ex. 2015 [2016] 2017 2018 -> 'elec_year' = 2016\n",
    "for row in range(len(df)):\n",
    "    car_year = df.iloc[row]['year']\n",
    "    \n",
    "    for i in range(len(years)):\n",
    "        if (years[i] == car_year) or ((years[i]-1) == car_year) or ((years[i]+1) == car_year) or ((years[i]+2) == car_year):\n",
    "            df['elec_year'][row] = years[i]"
   ]
  },
  {
   "cell_type": "code",
   "execution_count": 28,
   "id": "9d95c359",
   "metadata": {
    "cell_id": "00007-d2cbcea2-79e1-4dea-982e-9fa73cc3a935",
    "deepnote_cell_type": "code",
    "deepnote_to_be_reexecuted": false,
    "execution_millis": 4,
    "execution_start": 1640609896631,
    "source_hash": "54627708"
   },
   "outputs": [],
   "source": [
    "#df_states_hist_election.head()"
   ]
  },
  {
   "cell_type": "markdown",
   "id": "716753bb",
   "metadata": {},
   "source": [
    "# Merge both DataFrames"
   ]
  },
  {
   "cell_type": "code",
   "execution_count": 29,
   "id": "f0d5c40f",
   "metadata": {},
   "outputs": [],
   "source": [
    "df = pd.merge(df,df_states_hist_election[['year','state_po','party_simplified']], how='left' , left_on=['state','elec_year'], right_on =['state_po','year'] )\n",
    "df.drop(['year_y','state_po'],axis=1, inplace=True)\n",
    "df.rename(columns={\"year_x\": \"year\"},inplace=True)\n",
    "df.rename(columns={\"party_simplified\": \"party\"},inplace=True)"
   ]
  },
  {
   "cell_type": "code",
   "execution_count": 30,
   "id": "123e65a7",
   "metadata": {},
   "outputs": [],
   "source": [
    "for i in range(len(df)):\n",
    "    if df['party'][i] == 'REPUBLICAN':\n",
    "        df['party'][i] = 1 #Republican\n",
    "    else:\n",
    "        df['party'][i] = 2 #Democrat\n",
    "\n",
    "df['party'] = df['party'].astype(int)"
   ]
  },
  {
   "cell_type": "code",
   "execution_count": 31,
   "id": "1462a728",
   "metadata": {},
   "outputs": [],
   "source": [
    "#df.head()"
   ]
  },
  {
   "cell_type": "markdown",
   "id": "d5ef2a71",
   "metadata": {},
   "source": [
    "------------------------------------------------------"
   ]
  },
  {
   "cell_type": "markdown",
   "id": "b1810880",
   "metadata": {},
   "source": [
    "# Preparing data frame with likelihoods and means per elec year per state"
   ]
  },
  {
   "cell_type": "code",
   "execution_count": 32,
   "id": "59514d12",
   "metadata": {},
   "outputs": [],
   "source": [
    "df_pptII = df.copy(deep=True)"
   ]
  },
  {
   "cell_type": "code",
   "execution_count": 33,
   "id": "fbd9c150",
   "metadata": {},
   "outputs": [
    {
     "data": {
      "text/plain": [
       "Index(['Unnamed: 0', 'vin', 'back_legroom', 'body_type', 'city',\n",
       "       'daysonmarket', 'dealer_zip', 'engine_cylinders', 'engine_displacement',\n",
       "       'engine_type', 'exterior_color', 'franchise_dealer', 'front_legroom',\n",
       "       'fuel_tank_volume', 'fuel_type', 'height', 'horsepower',\n",
       "       'interior_color', 'is_new', 'latitude', 'length', 'listed_date',\n",
       "       'listing_color', 'listing_id', 'longitude', 'major_options',\n",
       "       'make_name', 'maximum_seating', 'mileage', 'model_name', 'price',\n",
       "       'savings_amount', 'seller_rating', 'sp_id', 'sp_name', 'transmission',\n",
       "       'transmission_display', 'trimId', 'trim_name', 'wheel_system',\n",
       "       'wheel_system_display', 'wheelbase', 'width', 'year', 'state',\n",
       "       'elec_year', 'city_fuel_economy', 'party'],\n",
       "      dtype='object')"
      ]
     },
     "execution_count": 33,
     "metadata": {},
     "output_type": "execute_result"
    }
   ],
   "source": [
    "df_pptII.columns"
   ]
  },
  {
   "cell_type": "code",
   "execution_count": 34,
   "id": "078c8ed7",
   "metadata": {},
   "outputs": [],
   "source": [
    "col_to_drop = ['Unnamed: 0', 'vin', 'back_legroom', 'city','daysonmarket', 'dealer_zip', 'engine_cylinders', 'engine_displacement', \n",
    "               'exterior_color', 'franchise_dealer', 'front_legroom', 'height', 'interior_color', 'is_new', 'latitude', 'listed_date',\n",
    "               'listing_color', 'listing_id', 'longitude', 'major_options', 'price', 'savings_amount', 'seller_rating', 'sp_id', \n",
    "               'sp_name', 'transmission_display', 'trimId', 'trim_name', 'wheel_system_display', 'wheelbase',  \n",
    "               'transmission', 'wheel_system', 'width', 'length', 'fuel_type']"
   ]
  },
  {
   "cell_type": "code",
   "execution_count": 35,
   "id": "f481e51c",
   "metadata": {},
   "outputs": [],
   "source": [
    "#delete unwanted columns\n",
    "df_pptII = df_pptII.drop(columns = col_to_drop)\n",
    "#df_pptII.head()"
   ]
  },
  {
   "cell_type": "code",
   "execution_count": 36,
   "id": "85b872df",
   "metadata": {},
   "outputs": [],
   "source": [
    "def cars_df_train_test(dataset):\n",
    "    cars_df = pd.DataFrame()\n",
    "    \n",
    "    make_ocurrences = list(dataset['make_name'].value_counts()[:5].index)\n",
    "    body_ocurrences = list(dataset['body_type'].value_counts()[:5].index)\n",
    "    engine_ocurrences = list(dataset['engine_type'].value_counts()[:3].index)\n",
    "    model_ocurrences = list(dataset['model_name'].value_counts()[:5].index)\n",
    "    \n",
    "    states = pd.unique(dataset['state']) #unique for a list of states\n",
    "    \n",
    "    for state in states:\n",
    "        selected_state = dataset[dataset['state'] == state]\n",
    "        state_years = pd.unique(selected_state['elec_year'])\n",
    "        state_years.sort()\n",
    "        \n",
    "        for year in state_years:\n",
    "            selected_state_year = selected_state[selected_state['elec_year'] == year]\n",
    "            party = selected_state_year.iloc[0]['party']\n",
    "            \n",
    "            col_class = list(selected_state_year.columns)\n",
    "            col_drop = ['year', 'state', 'elec_year', 'party']\n",
    "            \n",
    "            for i in range(len(col_drop)):\n",
    "                col_d = (col_drop[i])\n",
    "                del_index = col_class.index(col_d) \n",
    "                del col_class[del_index]\n",
    "\n",
    "            #one structure at the time, then concat to the final dataframe\n",
    "            df_temp = pd.DataFrame()\n",
    "            df_temp['state'] = [state]\n",
    "            df_temp['elec_year'] = [year]\n",
    "            df_temp['party'] = [party]\n",
    "            \n",
    "            #check if is numerical (mean) or categorical (top 3 likelihood)\n",
    "            temp_num = pd.DataFrame()\n",
    "            temp_cat = pd.DataFrame()\n",
    "\n",
    "            for col_name in col_class:\n",
    "                if selected_state_year[col_name].dtype == 'O':\n",
    "                    temp_cat = temp_cat.append(selected_state_year[col_name])\n",
    "                else:\n",
    "                    temp_num = temp_num.append(selected_state_year[col_name])\n",
    "\n",
    "            temp_cat = temp_cat.T\n",
    "            col_cat = list(temp_cat.columns)\n",
    "            temp_num = temp_num.T\n",
    "            col_num = list(temp_num.columns)\n",
    "\n",
    "            #Cat > Now I need to take the row. get the most freq values and calculate likelihood.\n",
    "            likelihood = pd.DataFrame()\n",
    "            means = pd.DataFrame()\n",
    "\n",
    "            for colName in col_cat:\n",
    "                \n",
    "                if colName == 'make_name':\n",
    "                    value_counts = temp_cat[colName].value_counts().reindex(make_ocurrences, fill_value=0)\n",
    "                    val_counts = pd.DataFrame(value_counts)\n",
    "                    likelihood = val_counts.reset_index()\n",
    "                    likelihood = likelihood.T\n",
    "                    likelihood.columns = likelihood.iloc[0]\n",
    "                    likelihood = likelihood.drop(labels='index', axis=0)\n",
    "                    likelihood.reset_index(drop=True, inplace=True)\n",
    "                    likelihood = likelihood.add_suffix(f\" |{colName}\") #colName\n",
    "                    sum_like = float(likelihood.sum(axis=1))\n",
    "                    for col in likelihood.columns:\n",
    "                        like = 0\n",
    "                        try:\n",
    "                            like = likelihood.iloc[0][col] / sum_like\n",
    "                            likelihood[col][0] = like\n",
    "                        except:\n",
    "                            likelihood[col][0] = like\n",
    "                    df_temp = df_temp.join(likelihood)\n",
    "\n",
    "                if colName == 'body_type':\n",
    "                    value_counts = temp_cat[colName].value_counts().reindex(body_ocurrences, fill_value=0)\n",
    "                    val_counts = pd.DataFrame(value_counts)\n",
    "                    likelihood = val_counts.reset_index()\n",
    "                    likelihood = likelihood.T\n",
    "                    likelihood.columns = likelihood.iloc[0]\n",
    "                    likelihood = likelihood.drop(labels='index', axis=0)\n",
    "                    likelihood.reset_index(drop=True, inplace=True)\n",
    "                    likelihood = likelihood.add_suffix(f\" |{colName}\") #colName\n",
    "                    sum_like = float(likelihood.sum(axis=1))\n",
    "                    for col in likelihood.columns:\n",
    "                        like = 0\n",
    "                        try:\n",
    "                            like = likelihood.iloc[0][col] / sum_like\n",
    "                            likelihood[col][0] = like\n",
    "                        except:\n",
    "                            likelihood[col][0] = like\n",
    "                    df_temp = df_temp.join(likelihood)\n",
    "\n",
    "                if colName == 'engine_type':\n",
    "                    value_counts = temp_cat[colName].value_counts().reindex(engine_ocurrences, fill_value=0)\n",
    "                    val_counts = pd.DataFrame(value_counts)\n",
    "                    likelihood = val_counts.reset_index()\n",
    "                    likelihood = likelihood.T\n",
    "                    likelihood.columns = likelihood.iloc[0]\n",
    "                    likelihood = likelihood.drop(labels='index', axis=0)\n",
    "                    likelihood.reset_index(drop=True, inplace=True)\n",
    "                    likelihood = likelihood.add_suffix(f\" |{colName}\") #colName\n",
    "                    sum_like = float(likelihood.sum(axis=1))\n",
    "                    for col in likelihood.columns:\n",
    "                        like = 0\n",
    "                        try:\n",
    "                            like = likelihood.iloc[0][col] / sum_like\n",
    "                            likelihood[col][0] = like\n",
    "                        except:\n",
    "                            likelihood[col][0] = like\n",
    "                    df_temp = df_temp.join(likelihood)\n",
    "               \n",
    "                if colName == 'model_type':\n",
    "                    value_counts = temp_cat[colName].value_counts().reindex(model_ocurrences, fill_value=0)\n",
    "                    val_counts = pd.DataFrame(value_counts)\n",
    "                    likelihood = val_counts.reset_index()\n",
    "                    likelihood = likelihood.T\n",
    "                    likelihood.columns = likelihood.iloc[0]\n",
    "                    likelihood = likelihood.drop(labels='index', axis=0)\n",
    "                    likelihood.reset_index(drop=True, inplace=True)\n",
    "                    likelihood = likelihood.add_suffix(f\" |{colName}\") #colName\n",
    "                    sum_like = float(likelihood.sum(axis=1))\n",
    "                    for col in likelihood.columns:\n",
    "                        like = 0\n",
    "                        try:\n",
    "                            like = likelihood.iloc[0][col] / sum_like\n",
    "                            likelihood[col][0] = like\n",
    "                        except:\n",
    "                            likelihood[col][0] = like\n",
    "                    df_temp = df_temp.join(likelihood)\n",
    "                \n",
    "                ''' #for a global non specific likelihood\n",
    "                value_counts = temp_cat[colName].value_counts()[:2] #colName\n",
    "                val_counts = pd.DataFrame(value_counts)\n",
    "                likelihood = val_counts.reset_index()\n",
    "                likelihood = likelihood.T\n",
    "                likelihood.columns = likelihood.iloc[0]\n",
    "                likelihood = likelihood.drop(labels='index', axis=0)\n",
    "                likelihood.reset_index(drop=True, inplace=True)\n",
    "                likelihood = likelihood.add_suffix(f\" |{colName}\") #colName\n",
    "                sum_like = float(likelihood.sum(axis=1))\n",
    "                for col in likelihood.columns:\n",
    "                    like = 0\n",
    "                    like = likelihood.iloc[0][col] / sum_like\n",
    "                    likelihood[col][0] = like\n",
    "                df_temp = df_temp.join(likelihood)\n",
    "                '''  \n",
    "            #if it is numerical calculate mean\n",
    "            for colName in col_num:\n",
    "                mean_col = temp_num[colName].mean()\n",
    "                means[colName] = [mean_col]\n",
    "\n",
    "            df_temp = df_temp.join(means)\n",
    "            \n",
    "            cars_df = cars_df.append(df_temp)\n",
    "            cars_df = cars_df.fillna(0)\n",
    "            cars_df = cars_df.round(2)\n",
    "            cars_df = cars_df.loc[cars_df['elec_year']!=0] #year = 0 are just a few collectionables\n",
    "            cars_df = cars_df.loc[cars_df.loc[:,'SUV / Crossover |body_type':'mileage'].sum(axis=1) != 0]\n",
    "            \n",
    "    return cars_df"
   ]
  },
  {
   "cell_type": "code",
   "execution_count": 37,
   "id": "8134d377",
   "metadata": {},
   "outputs": [],
   "source": [
    "cars_df = cars_df_train_test(df_pptII)"
   ]
  },
  {
   "cell_type": "code",
   "execution_count": 38,
   "id": "99aaaecc",
   "metadata": {},
   "outputs": [
    {
     "data": {
      "text/html": [
       "<div>\n",
       "<style scoped>\n",
       "    .dataframe tbody tr th:only-of-type {\n",
       "        vertical-align: middle;\n",
       "    }\n",
       "\n",
       "    .dataframe tbody tr th {\n",
       "        vertical-align: top;\n",
       "    }\n",
       "\n",
       "    .dataframe thead th {\n",
       "        text-align: right;\n",
       "    }\n",
       "</style>\n",
       "<table border=\"1\" class=\"dataframe\">\n",
       "  <thead>\n",
       "    <tr style=\"text-align: right;\">\n",
       "      <th></th>\n",
       "      <th>state</th>\n",
       "      <th>elec_year</th>\n",
       "      <th>party</th>\n",
       "      <th>SUV / Crossover |body_type</th>\n",
       "      <th>Sedan |body_type</th>\n",
       "      <th>Pickup Truck |body_type</th>\n",
       "      <th>Hatchback |body_type</th>\n",
       "      <th>Minivan |body_type</th>\n",
       "      <th>I4 |engine_type</th>\n",
       "      <th>V6 |engine_type</th>\n",
       "      <th>V8 |engine_type</th>\n",
       "      <th>Ford |make_name</th>\n",
       "      <th>Chevrolet |make_name</th>\n",
       "      <th>Toyota |make_name</th>\n",
       "      <th>Nissan |make_name</th>\n",
       "      <th>Honda |make_name</th>\n",
       "      <th>fuel_tank_volume</th>\n",
       "      <th>horsepower</th>\n",
       "      <th>maximum_seating</th>\n",
       "      <th>mileage</th>\n",
       "      <th>city_fuel_economy</th>\n",
       "    </tr>\n",
       "  </thead>\n",
       "  <tbody>\n",
       "    <tr>\n",
       "      <th>0</th>\n",
       "      <td>OR</td>\n",
       "      <td>2012</td>\n",
       "      <td>2</td>\n",
       "      <td>0.25</td>\n",
       "      <td>0.00</td>\n",
       "      <td>0.75</td>\n",
       "      <td>0.00</td>\n",
       "      <td>0.0</td>\n",
       "      <td>0.33</td>\n",
       "      <td>0.67</td>\n",
       "      <td>0.00</td>\n",
       "      <td>1.00</td>\n",
       "      <td>0.0</td>\n",
       "      <td>0.00</td>\n",
       "      <td>0.0</td>\n",
       "      <td>0.0</td>\n",
       "      <td>29.30</td>\n",
       "      <td>314.36</td>\n",
       "      <td>5.50</td>\n",
       "      <td>103132.75</td>\n",
       "      <td>19.19</td>\n",
       "    </tr>\n",
       "    <tr>\n",
       "      <th>0</th>\n",
       "      <td>OR</td>\n",
       "      <td>2016</td>\n",
       "      <td>2</td>\n",
       "      <td>0.36</td>\n",
       "      <td>0.07</td>\n",
       "      <td>0.36</td>\n",
       "      <td>0.21</td>\n",
       "      <td>0.0</td>\n",
       "      <td>0.50</td>\n",
       "      <td>0.25</td>\n",
       "      <td>0.25</td>\n",
       "      <td>0.62</td>\n",
       "      <td>0.0</td>\n",
       "      <td>0.38</td>\n",
       "      <td>0.0</td>\n",
       "      <td>0.0</td>\n",
       "      <td>22.07</td>\n",
       "      <td>287.28</td>\n",
       "      <td>5.57</td>\n",
       "      <td>37725.86</td>\n",
       "      <td>24.25</td>\n",
       "    </tr>\n",
       "    <tr>\n",
       "      <th>0</th>\n",
       "      <td>OR</td>\n",
       "      <td>2020</td>\n",
       "      <td>2</td>\n",
       "      <td>0.71</td>\n",
       "      <td>0.14</td>\n",
       "      <td>0.00</td>\n",
       "      <td>0.14</td>\n",
       "      <td>0.0</td>\n",
       "      <td>0.71</td>\n",
       "      <td>0.14</td>\n",
       "      <td>0.14</td>\n",
       "      <td>0.40</td>\n",
       "      <td>0.2</td>\n",
       "      <td>0.40</td>\n",
       "      <td>0.0</td>\n",
       "      <td>0.0</td>\n",
       "      <td>17.73</td>\n",
       "      <td>211.50</td>\n",
       "      <td>5.75</td>\n",
       "      <td>33452.39</td>\n",
       "      <td>23.50</td>\n",
       "    </tr>\n",
       "    <tr>\n",
       "      <th>0</th>\n",
       "      <td>PR</td>\n",
       "      <td>2016</td>\n",
       "      <td>2</td>\n",
       "      <td>0.00</td>\n",
       "      <td>1.00</td>\n",
       "      <td>0.00</td>\n",
       "      <td>0.00</td>\n",
       "      <td>0.0</td>\n",
       "      <td>0.00</td>\n",
       "      <td>0.00</td>\n",
       "      <td>0.00</td>\n",
       "      <td>0.00</td>\n",
       "      <td>0.0</td>\n",
       "      <td>0.00</td>\n",
       "      <td>0.0</td>\n",
       "      <td>0.0</td>\n",
       "      <td>15.80</td>\n",
       "      <td>320.00</td>\n",
       "      <td>5.00</td>\n",
       "      <td>6903.00</td>\n",
       "      <td>22.00</td>\n",
       "    </tr>\n",
       "    <tr>\n",
       "      <th>0</th>\n",
       "      <td>HI</td>\n",
       "      <td>2016</td>\n",
       "      <td>2</td>\n",
       "      <td>0.00</td>\n",
       "      <td>0.00</td>\n",
       "      <td>0.00</td>\n",
       "      <td>0.00</td>\n",
       "      <td>1.0</td>\n",
       "      <td>0.00</td>\n",
       "      <td>0.00</td>\n",
       "      <td>0.00</td>\n",
       "      <td>0.00</td>\n",
       "      <td>0.0</td>\n",
       "      <td>0.00</td>\n",
       "      <td>0.0</td>\n",
       "      <td>0.0</td>\n",
       "      <td>20.00</td>\n",
       "      <td>283.00</td>\n",
       "      <td>7.00</td>\n",
       "      <td>28121.00</td>\n",
       "      <td>17.00</td>\n",
       "    </tr>\n",
       "  </tbody>\n",
       "</table>\n",
       "</div>"
      ],
      "text/plain": [
       "  state  elec_year  party  SUV / Crossover |body_type  Sedan |body_type  \\\n",
       "0    OR       2012      2                        0.25              0.00   \n",
       "0    OR       2016      2                        0.36              0.07   \n",
       "0    OR       2020      2                        0.71              0.14   \n",
       "0    PR       2016      2                        0.00              1.00   \n",
       "0    HI       2016      2                        0.00              0.00   \n",
       "\n",
       "   Pickup Truck |body_type  Hatchback |body_type  Minivan |body_type  \\\n",
       "0                     0.75                  0.00                 0.0   \n",
       "0                     0.36                  0.21                 0.0   \n",
       "0                     0.00                  0.14                 0.0   \n",
       "0                     0.00                  0.00                 0.0   \n",
       "0                     0.00                  0.00                 1.0   \n",
       "\n",
       "   I4 |engine_type  V6 |engine_type  V8 |engine_type  Ford |make_name  \\\n",
       "0             0.33             0.67             0.00             1.00   \n",
       "0             0.50             0.25             0.25             0.62   \n",
       "0             0.71             0.14             0.14             0.40   \n",
       "0             0.00             0.00             0.00             0.00   \n",
       "0             0.00             0.00             0.00             0.00   \n",
       "\n",
       "   Chevrolet |make_name  Toyota |make_name  Nissan |make_name  \\\n",
       "0                   0.0               0.00                0.0   \n",
       "0                   0.0               0.38                0.0   \n",
       "0                   0.2               0.40                0.0   \n",
       "0                   0.0               0.00                0.0   \n",
       "0                   0.0               0.00                0.0   \n",
       "\n",
       "   Honda |make_name  fuel_tank_volume  horsepower  maximum_seating    mileage  \\\n",
       "0               0.0             29.30      314.36             5.50  103132.75   \n",
       "0               0.0             22.07      287.28             5.57   37725.86   \n",
       "0               0.0             17.73      211.50             5.75   33452.39   \n",
       "0               0.0             15.80      320.00             5.00    6903.00   \n",
       "0               0.0             20.00      283.00             7.00   28121.00   \n",
       "\n",
       "   city_fuel_economy  \n",
       "0              19.19  \n",
       "0              24.25  \n",
       "0              23.50  \n",
       "0              22.00  \n",
       "0              17.00  "
      ]
     },
     "execution_count": 38,
     "metadata": {},
     "output_type": "execute_result"
    }
   ],
   "source": [
    "cars_df.tail()"
   ]
  },
  {
   "cell_type": "markdown",
   "id": "e86d0dfd",
   "metadata": {},
   "source": [
    "# Plotting Data to find tendencies, relations, clusters"
   ]
  },
  {
   "cell_type": "code",
   "execution_count": 39,
   "id": "21890598",
   "metadata": {},
   "outputs": [],
   "source": [
    "import matplotlib.pyplot as plt"
   ]
  },
  {
   "cell_type": "code",
   "execution_count": 40,
   "id": "1e89ab2d",
   "metadata": {},
   "outputs": [
    {
     "data": {
      "text/plain": [
       "Index(['state', 'elec_year', 'party', 'SUV / Crossover |body_type',\n",
       "       'Sedan |body_type', 'Pickup Truck |body_type', 'Hatchback |body_type',\n",
       "       'Minivan |body_type', 'I4 |engine_type', 'V6 |engine_type',\n",
       "       'V8 |engine_type', 'Ford |make_name', 'Chevrolet |make_name',\n",
       "       'Toyota |make_name', 'Nissan |make_name', 'Honda |make_name',\n",
       "       'fuel_tank_volume', 'horsepower', 'maximum_seating', 'mileage',\n",
       "       'city_fuel_economy'],\n",
       "      dtype='object')"
      ]
     },
     "execution_count": 40,
     "metadata": {},
     "output_type": "execute_result"
    }
   ],
   "source": [
    "(cars_df.columns)"
   ]
  },
  {
   "cell_type": "code",
   "execution_count": 41,
   "id": "2501c49b",
   "metadata": {},
   "outputs": [],
   "source": [
    "#list of column names for plotting\n",
    "body_type = ['SUV / Crossover |body_type', 'Sedan |body_type', 'Pickup Truck |body_type', 'Hatchback |body_type', 'Minivan |body_type']\n",
    "engine_type = ['I4 |engine_type', 'V6 |engine_type', 'V8 |engine_type']\n",
    "make_name = ['Ford |make_name', 'Chevrolet |make_name', 'Toyota |make_name', 'Nissan |make_name', 'Honda |make_name',]\n"
   ]
  },
  {
   "cell_type": "code",
   "execution_count": 42,
   "id": "bf83ba61",
   "metadata": {},
   "outputs": [
    {
     "data": {
      "text/plain": [
       "Index(['state', 'elec_year', 'party', 'SUV / Crossover |body_type',\n",
       "       'Sedan |body_type', 'Pickup Truck |body_type', 'Hatchback |body_type',\n",
       "       'Minivan |body_type', 'I4 |engine_type', 'V6 |engine_type',\n",
       "       'V8 |engine_type', 'Ford |make_name', 'Chevrolet |make_name',\n",
       "       'Toyota |make_name', 'Nissan |make_name', 'Honda |make_name',\n",
       "       'fuel_tank_volume', 'horsepower', 'maximum_seating', 'mileage',\n",
       "       'city_fuel_economy'],\n",
       "      dtype='object')"
      ]
     },
     "execution_count": 42,
     "metadata": {},
     "output_type": "execute_result"
    }
   ],
   "source": [
    "cars_df.columns"
   ]
  },
  {
   "cell_type": "code",
   "execution_count": 43,
   "id": "7f0d7492",
   "metadata": {},
   "outputs": [
    {
     "data": {
      "image/png": "[encoded data removed]",
      "text/plain": [
       "<Figure size 432x288 with 1 Axes>"
      ]
     },
     "metadata": {
      "needs_background": "light"
     },
     "output_type": "display_data"
    }
   ],
   "source": [
    "#relation between type of car and political party\n",
    "btype_party = cars_df.groupby(['party'])[body_type].sum()\n",
    "btype_party = pd.DataFrame(btype_party)\n",
    "btype_party = btype_party.rename({'party': 'counts'}, axis=1)\n",
    "btype_party = btype_party.reset_index()\n",
    "del btype_party['party']\n",
    "\n",
    "ax = btype_party.T.plot(kind='bar')\n",
    "ax.legend([\"1.Rep\", \"2.Dem\"]);"
   ]
  },
  {
   "cell_type": "code",
   "execution_count": 44,
   "id": "45fbe9ae",
   "metadata": {},
   "outputs": [
    {
     "data": {
      "image/png": "[encoded data removed]",
      "text/plain": [
       "<Figure size 432x288 with 1 Axes>"
      ]
     },
     "metadata": {
      "needs_background": "light"
     },
     "output_type": "display_data"
    }
   ],
   "source": [
    "#relation between engine of car and political party\n",
    "etype_party = cars_df.groupby(['party'])[engine_type].sum()\n",
    "etype_party = pd.DataFrame(etype_party)\n",
    "etype_party = etype_party.rename({'party': 'counts'}, axis=1)\n",
    "etype_party = etype_party.reset_index()\n",
    "del etype_party['party']\n",
    "\n",
    "ax = etype_party.T.plot(kind='bar')\n",
    "ax.legend([\"1.Rep\", \"2.Dem\"]);"
   ]
  },
  {
   "cell_type": "code",
   "execution_count": 45,
   "id": "19011348",
   "metadata": {},
   "outputs": [
    {
     "data": {
      "image/png": "[encoded data removed]",
      "text/plain": [
       "<Figure size 432x288 with 1 Axes>"
      ]
     },
     "metadata": {
      "needs_background": "light"
     },
     "output_type": "display_data"
    }
   ],
   "source": [
    "#relation between brand of car and political party\n",
    "name_party = cars_df.groupby(['party'])[make_name].sum()\n",
    "name_party = pd.DataFrame(name_party)\n",
    "name_party = name_party.rename({'party': 'counts'}, axis=1)\n",
    "name_party = name_party.reset_index()\n",
    "del name_party['party']\n",
    "\n",
    "ax = name_party.T.plot(kind='bar')\n",
    "ax.legend([\"1.Rep\", \"2.Dem\"]);"
   ]
  },
  {
   "cell_type": "code",
   "execution_count": 46,
   "id": "3fa4b45b",
   "metadata": {},
   "outputs": [
    {
     "data": {
      "image/png": "[encoded data removed]",
      "text/plain": [
       "<Figure size 432x288 with 1 Axes>"
      ]
     },
     "metadata": {
      "needs_background": "light"
     },
     "output_type": "display_data"
    }
   ],
   "source": [
    "#max sitting and ... #different dot colors for party #millage relation to political party\n",
    "plt.title('Scatter plot of the Distribution of data of ...')\n",
    "plt.scatter(cars_df['horsepower'], cars_df['fuel_tank_volume'],\\\n",
    "            c=cars_df['party'], cmap=plt.cm.summer)\n",
    "plt.xlabel('horsepower')\n",
    "plt.ylabel('fuel_tank_volume')\n",
    "plt.show()"
   ]
  },
  {
   "cell_type": "code",
   "execution_count": 47,
   "id": "417a0abf",
   "metadata": {},
   "outputs": [
    {
     "data": {
      "text/plain": [
       "Text(0, 0.5, 'fuel_tank_volume')"
      ]
     },
     "execution_count": 47,
     "metadata": {},
     "output_type": "execute_result"
    },
    {
     "data": {
      "image/png": "[encoded data removed]",
      "text/plain": [
       "<Figure size 432x288 with 1 Axes>"
      ]
     },
     "metadata": {
      "needs_background": "light"
     },
     "output_type": "display_data"
    }
   ],
   "source": [
    "plt.scatter(cars_df['mileage'], cars_df['fuel_tank_volume'],\\\n",
    "            c=cars_df['party'], cmap=plt.cm.summer)\n",
    "plt.xlabel('mileage')\n",
    "plt.ylabel('fuel_tank_volume')"
   ]
  },
  {
   "cell_type": "code",
   "execution_count": 48,
   "id": "181d206b",
   "metadata": {},
   "outputs": [
    {
     "data": {
      "text/plain": [
       "Text(0, 0.5, 'horsepower')"
      ]
     },
     "execution_count": 48,
     "metadata": {},
     "output_type": "execute_result"
    },
    {
     "data": {
      "image/png": "[encoded data removed]",
      "text/plain": [
       "<Figure size 432x288 with 1 Axes>"
      ]
     },
     "metadata": {
      "needs_background": "light"
     },
     "output_type": "display_data"
    }
   ],
   "source": [
    "plt.scatter(cars_df['maximum_seating'], cars_df['horsepower'],\\\n",
    "            c=cars_df['party'], cmap=plt.cm.summer)\n",
    "plt.xlabel('maximum_seating')\n",
    "plt.ylabel('horsepower')"
   ]
  },
  {
   "cell_type": "code",
   "execution_count": 49,
   "id": "f24fd1f9",
   "metadata": {},
   "outputs": [
    {
     "data": {
      "text/plain": [
       "Text(0, 0.5, 'fuel_tank_volume')"
      ]
     },
     "execution_count": 49,
     "metadata": {},
     "output_type": "execute_result"
    },
    {
     "data": {
      "image/png": "[encoded data removed]",
      "text/plain": [
       "<Figure size 432x288 with 1 Axes>"
      ]
     },
     "metadata": {
      "needs_background": "light"
     },
     "output_type": "display_data"
    }
   ],
   "source": [
    "plt.scatter(cars_df['maximum_seating'], cars_df['fuel_tank_volume'],\\\n",
    "            c=cars_df['party'], cmap=plt.cm.summer)\n",
    "plt.xlabel('maximum_seating')\n",
    "plt.ylabel('fuel_tank_volume')"
   ]
  },
  {
   "cell_type": "code",
   "execution_count": 50,
   "id": "fbaa4f4d",
   "metadata": {},
   "outputs": [
    {
     "data": {
      "text/plain": [
       "Text(0, 0.5, 'fuel_tank_volume')"
      ]
     },
     "execution_count": 50,
     "metadata": {},
     "output_type": "execute_result"
    },
    {
     "data": {
      "image/png": "[encoded data removed]",
      "text/plain": [
       "<Figure size 432x288 with 1 Axes>"
      ]
     },
     "metadata": {
      "needs_background": "light"
     },
     "output_type": "display_data"
    }
   ],
   "source": [
    "plt.scatter(cars_df['mileage'], cars_df['fuel_tank_volume'],\\\n",
    "            c=cars_df['party'], cmap=plt.cm.summer)\n",
    "plt.xlabel('mileage')\n",
    "plt.ylabel('fuel_tank_volume')"
   ]
  },
  {
   "cell_type": "code",
   "execution_count": 51,
   "id": "cb7ca166",
   "metadata": {},
   "outputs": [
    {
     "data": {
      "text/plain": [
       "Text(0, 0.5, 'horsepower')"
      ]
     },
     "execution_count": 51,
     "metadata": {},
     "output_type": "execute_result"
    },
    {
     "data": {
      "image/png": "[encoded data removed]",
      "text/plain": [
       "<Figure size 432x288 with 1 Axes>"
      ]
     },
     "metadata": {
      "needs_background": "light"
     },
     "output_type": "display_data"
    }
   ],
   "source": [
    "plt.scatter(cars_df['mileage'], cars_df['horsepower'],\\\n",
    "            c=cars_df['party'], cmap=plt.cm.summer)\n",
    "plt.xlabel('mileage')\n",
    "plt.ylabel('horsepower')"
   ]
  },
  {
   "cell_type": "code",
   "execution_count": 52,
   "id": "ff1cf95d",
   "metadata": {},
   "outputs": [
    {
     "data": {
      "text/plain": [
       "Text(0, 0.5, 'maximum_seating')"
      ]
     },
     "execution_count": 52,
     "metadata": {},
     "output_type": "execute_result"
    },
    {
     "data": {
      "image/png": "[encoded data removed]",
      "text/plain": [
       "<Figure size 432x288 with 1 Axes>"
      ]
     },
     "metadata": {
      "needs_background": "light"
     },
     "output_type": "display_data"
    }
   ],
   "source": [
    "plt.scatter(cars_df['city_fuel_economy'], cars_df['maximum_seating'],\\\n",
    "            c=cars_df['party'], cmap=plt.cm.summer)\n",
    "plt.xlabel('city_fuel_economy')\n",
    "plt.ylabel('maximum_seating')"
   ]
  },
  {
   "cell_type": "code",
   "execution_count": 53,
   "id": "2917cdf6",
   "metadata": {},
   "outputs": [
    {
     "data": {
      "text/plain": [
       "Text(0, 0.5, 'horsepower')"
      ]
     },
     "execution_count": 53,
     "metadata": {},
     "output_type": "execute_result"
    },
    {
     "data": {
      "image/png": "[encoded data removed]",
      "text/plain": [
       "<Figure size 432x288 with 1 Axes>"
      ]
     },
     "metadata": {
      "needs_background": "light"
     },
     "output_type": "display_data"
    }
   ],
   "source": [
    "plt.scatter(cars_df['city_fuel_economy'], cars_df['horsepower'],\\\n",
    "            c=cars_df['party'], cmap=plt.cm.summer)\n",
    "plt.xlabel('city_fuel_economy')\n",
    "plt.ylabel('horsepower')"
   ]
  },
  {
   "cell_type": "code",
   "execution_count": 54,
   "id": "a96bfb5c",
   "metadata": {},
   "outputs": [
    {
     "data": {
      "text/html": [
       "<div>\n",
       "<style scoped>\n",
       "    .dataframe tbody tr th:only-of-type {\n",
       "        vertical-align: middle;\n",
       "    }\n",
       "\n",
       "    .dataframe tbody tr th {\n",
       "        vertical-align: top;\n",
       "    }\n",
       "\n",
       "    .dataframe thead th {\n",
       "        text-align: right;\n",
       "    }\n",
       "</style>\n",
       "<table border=\"1\" class=\"dataframe\">\n",
       "  <thead>\n",
       "    <tr style=\"text-align: right;\">\n",
       "      <th></th>\n",
       "      <th></th>\n",
       "      <th>%</th>\n",
       "    </tr>\n",
       "    <tr>\n",
       "      <th>state</th>\n",
       "      <th>party</th>\n",
       "      <th></th>\n",
       "    </tr>\n",
       "  </thead>\n",
       "  <tbody>\n",
       "    <tr>\n",
       "      <th>AL</th>\n",
       "      <th>1</th>\n",
       "      <td>100.000000</td>\n",
       "    </tr>\n",
       "    <tr>\n",
       "      <th rowspan=\"2\" valign=\"top\">AR</th>\n",
       "      <th>1</th>\n",
       "      <td>83.333333</td>\n",
       "    </tr>\n",
       "    <tr>\n",
       "      <th>2</th>\n",
       "      <td>16.666667</td>\n",
       "    </tr>\n",
       "    <tr>\n",
       "      <th rowspan=\"2\" valign=\"top\">AZ</th>\n",
       "      <th>1</th>\n",
       "      <td>77.777778</td>\n",
       "    </tr>\n",
       "    <tr>\n",
       "      <th>2</th>\n",
       "      <td>22.222222</td>\n",
       "    </tr>\n",
       "    <tr>\n",
       "      <th>...</th>\n",
       "      <th>...</th>\n",
       "      <td>...</td>\n",
       "    </tr>\n",
       "    <tr>\n",
       "      <th>WA</th>\n",
       "      <th>2</th>\n",
       "      <td>100.000000</td>\n",
       "    </tr>\n",
       "    <tr>\n",
       "      <th rowspan=\"2\" valign=\"top\">WI</th>\n",
       "      <th>2</th>\n",
       "      <td>77.777778</td>\n",
       "    </tr>\n",
       "    <tr>\n",
       "      <th>1</th>\n",
       "      <td>22.222222</td>\n",
       "    </tr>\n",
       "    <tr>\n",
       "      <th>WV</th>\n",
       "      <th>1</th>\n",
       "      <td>100.000000</td>\n",
       "    </tr>\n",
       "    <tr>\n",
       "      <th>WY</th>\n",
       "      <th>1</th>\n",
       "      <td>100.000000</td>\n",
       "    </tr>\n",
       "  </tbody>\n",
       "</table>\n",
       "<p>75 rows × 1 columns</p>\n",
       "</div>"
      ],
      "text/plain": [
       "                      %\n",
       "state party            \n",
       "AL    1      100.000000\n",
       "AR    1       83.333333\n",
       "      2       16.666667\n",
       "AZ    1       77.777778\n",
       "      2       22.222222\n",
       "...                 ...\n",
       "WA    2      100.000000\n",
       "WI    2       77.777778\n",
       "      1       22.222222\n",
       "WV    1      100.000000\n",
       "WY    1      100.000000\n",
       "\n",
       "[75 rows x 1 columns]"
      ]
     },
     "execution_count": 54,
     "metadata": {},
     "output_type": "execute_result"
    }
   ],
   "source": [
    "#political party % count per state\n",
    "state_party = cars_df.groupby(['state'])['party'].value_counts(normalize=True)*100\n",
    "state_party = pd.DataFrame(state_party)\n",
    "state_party = state_party.rename({'party': '%'}, axis=1)\n",
    "\n",
    "state_party"
   ]
  },
  {
   "cell_type": "markdown",
   "id": "69652db3",
   "metadata": {},
   "source": [
    "# Naive Bayes"
   ]
  },
  {
   "cell_type": "code",
   "execution_count": 55,
   "id": "456b5ead",
   "metadata": {},
   "outputs": [],
   "source": [
    "#from sklearn.model_selection import train_test_split\n",
    "from sklearn.naive_bayes import GaussianNB\n",
    "from sklearn.metrics import accuracy_score"
   ]
  },
  {
   "cell_type": "code",
   "execution_count": 56,
   "id": "61bb8326",
   "metadata": {},
   "outputs": [],
   "source": [
    "X = cars_df.loc[:,'SUV / Crossover |body_type':]\n",
    "y = cars_df['party']\n",
    "X_train, X_test, y_train, y_test = train_test_split(X, y, test_size=0.3, random_state=0)"
   ]
  },
  {
   "cell_type": "code",
   "execution_count": 57,
   "id": "497555ce",
   "metadata": {},
   "outputs": [
    {
     "name": "stdout",
     "output_type": "stream",
     "text": [
      "Number of mislabeled points out of a total 117 points : 51\n",
      "--------------------------------------------------------\n",
      "Accuracy Score:  56.41025641025641\n",
      "--------------------------------------------------------\n"
     ]
    }
   ],
   "source": [
    "gnb = GaussianNB()\n",
    "y_pred = gnb.fit(X_train, y_train).predict(X_test)\n",
    "\n",
    "print(\"Number of mislabeled points out of a total %d points : %d\"\n",
    "       % (X_test.shape[0], (y_test != y_pred).sum()))\n",
    "\n",
    "# Use score method to get accuracy of the model\n",
    "print('--------------------------------------------------------')\n",
    "score = accuracy_score(y_test, y_pred)\n",
    "print('Accuracy Score: ', score*100)\n",
    "print('--------------------------------------------------------')"
   ]
  },
  {
   "cell_type": "markdown",
   "id": "87eb29b1",
   "metadata": {},
   "source": [
    "# Perceptron"
   ]
  },
  {
   "cell_type": "code",
   "execution_count": 58,
   "id": "439744ad",
   "metadata": {},
   "outputs": [],
   "source": [
    "from sklearn.linear_model import Perceptron"
   ]
  },
  {
   "cell_type": "code",
   "execution_count": 59,
   "id": "f28b334a",
   "metadata": {},
   "outputs": [],
   "source": [
    "#separate features and target\n",
    "X = cars_df.loc[:,'SUV / Crossover |body_type':]\n",
    "y = cars_df['party'] \n",
    "#and split\n",
    "X_train, X_test, y_train, y_test = train_test_split(X, y, test_size=0.3, random_state=0)"
   ]
  },
  {
   "cell_type": "code",
   "execution_count": 60,
   "id": "516e5fc7",
   "metadata": {},
   "outputs": [],
   "source": [
    "#implementing Perceptron\n",
    "ppn = Perceptron(random_state=True)\n",
    "ppn.fit(X_train,y_train)\n",
    "\n",
    "y_pred = ppn.predict(X_test)"
   ]
  },
  {
   "cell_type": "code",
   "execution_count": 61,
   "id": "e49db5c6",
   "metadata": {},
   "outputs": [
    {
     "name": "stdout",
     "output_type": "stream",
     "text": [
      "--------------------------------------------------------\n",
      "Accuracy Score:  54.700854700854705\n",
      "--------------------------------------------------------\n"
     ]
    }
   ],
   "source": [
    "#messuare performance\n",
    "print('--------------------------------------------------------')\n",
    "score = accuracy_score(y_test, y_pred)\n",
    "print('Accuracy Score: ', score*100)\n",
    "print('--------------------------------------------------------')"
   ]
  },
  {
   "cell_type": "markdown",
   "id": "dbf434fd",
   "metadata": {},
   "source": [
    "-------------------------"
   ]
  },
  {
   "cell_type": "markdown",
   "id": "687dedcd",
   "metadata": {},
   "source": [
    "what if we use categorical Naive Bayes, and test and train our data filtering per state (throughout all years)"
   ]
  },
  {
   "cell_type": "markdown",
   "id": "bcca638f",
   "metadata": {
    "cell_id": "00014-dde9bf09-2530-4b6d-8948-fc012fa704d3",
    "deepnote_cell_type": "markdown"
   },
   "source": [
    "# Naive Bayes > Categorical"
   ]
  },
  {
   "cell_type": "code",
   "execution_count": 62,
   "id": "9bfcce86",
   "metadata": {
    "cell_id": "00015-cc2b50ba-9197-4e0b-a4c7-5cad572c5728",
    "deepnote_cell_type": "code",
    "deepnote_to_be_reexecuted": true,
    "source_hash": "32945020"
   },
   "outputs": [],
   "source": [
    "df_cars_NB = df.copy(deep=True)"
   ]
  },
  {
   "cell_type": "code",
   "execution_count": 63,
   "id": "1b6cbb5d",
   "metadata": {
    "cell_id": "00016-c3568b12-2af3-45df-b920-0b41e0589bde",
    "deepnote_cell_type": "code",
    "deepnote_to_be_reexecuted": true,
    "source_hash": "853c26d5"
   },
   "outputs": [],
   "source": [
    "#Prepare dataframe for Naive Bayes\n",
    "col_to_drop = list(df_cars_NB.columns)\n",
    "col_keep = ['year','state','party','elec_year','body_type', 'engine_type', 'make_name','front_legroom','fuel_tank_volume','fuel_type','horsepower','maximum_seating', 'transmission']\n",
    "\n",
    "for i in range(len(col_keep)):\n",
    "    col_k = (col_keep[i])\n",
    "    del_index = col_to_drop.index(col_k) \n",
    "    del col_to_drop[del_index]\n",
    "\n",
    "#delete unwanted columns\n",
    "df_cars_NB = df_cars_NB.drop(columns = col_to_drop)"
   ]
  },
  {
   "cell_type": "markdown",
   "id": "e2cb8dcc",
   "metadata": {
    "cell_id": "00024-1d801513-e34c-4d6d-b334-02ae8cd9ddf0",
    "deepnote_cell_type": "markdown"
   },
   "source": [
    "from https://towardsdatascience.com/naive-bayes-classifier-how-to-successfully-use-it-in-python-ecf76a995069"
   ]
  },
  {
   "cell_type": "code",
   "execution_count": 64,
   "id": "e64507f3",
   "metadata": {
    "cell_id": "00025-25c6929c-f171-4c60-9c96-e04d8ac550b9",
    "deepnote_cell_type": "code",
    "deepnote_to_be_reexecuted": true,
    "source_hash": "d8faa129"
   },
   "outputs": [],
   "source": [
    "from sklearn.metrics import classification_report # for model evaluation metrics\n",
    "from sklearn.preprocessing import OrdinalEncoder # for encoding categorical features from strings to number arrays\n",
    "from sklearn.naive_bayes import CategoricalNB"
   ]
  },
  {
   "cell_type": "code",
   "execution_count": 65,
   "id": "e724ca5f",
   "metadata": {},
   "outputs": [],
   "source": [
    "def classify_only_state(state, dataset):\n",
    "    selected_state = dataset[dataset['state'] == state]\n",
    "    \n",
    "    # Bin continuous vairbales into 20% quantiles\n",
    "    #selected_state['city_fuel_economy_qt'] = pd.qcut(selected_state['city_fuel_economy'].rank(method='first'), 5, labels=['bottom 20', 'lower 20', 'middle 20', 'upper 20', 'top 20'])\n",
    "    selected_state['fuel_tank_volume_qt'] = pd.qcut(selected_state['fuel_tank_volume'].rank(method='first'), 5, labels=['bottom 20', 'lower 20', 'middle 20', 'upper 20', 'top 20'])\n",
    "    selected_state['horsepower_qt'] = pd.qcut(selected_state['horsepower'].rank(method='first'), 5, labels=['bottom 20', 'lower 20', 'middle 20', 'upper 20', 'top 20'])\n",
    "    selected_state['maximum_seating_qt'] = pd.qcut(selected_state['maximum_seating'].rank(method='first'), 5, labels=['bottom 20', 'lower 20', 'middle 20', 'upper 20', 'top 20'])\n",
    "    \n",
    "    # Select data for modeling\n",
    "    X = selected_state[['transmission', 'body_type', 'engine_type', 'fuel_tank_volume_qt', 'fuel_type', 'horsepower_qt', 'make_name','maximum_seating_qt']]\n",
    "    y = selected_state['party'].values\n",
    "    y = y.astype(int)\n",
    "\n",
    "    # Encode categorical variables\n",
    "    enc = OrdinalEncoder()\n",
    "    X = X.astype(str)\n",
    "    X = enc.fit_transform(X)\n",
    "    \n",
    "    return X, y, selected_state #check y_test to see what you get."
   ]
  },
  {
   "cell_type": "code",
   "execution_count": 66,
   "id": "f267ec4a",
   "metadata": {},
   "outputs": [],
   "source": [
    "def clssify_state_NB(state, dataset): #(X, y, X_test, selected_state):\n",
    "    X, y, selected_only_state = classify_only_state(state, dataset) #trains the system only per state throughout the years\n",
    "    \n",
    "    #split train test\n",
    "    X_train, X_test, y_train, y_test = train_test_split(X, y, test_size=0.3, random_state=0)\n",
    "    \n",
    "    clf = CategoricalNB()\n",
    "    clf.fit(X_train, y_train)\n",
    "    \n",
    "    clf_pred = clf.predict(X_test)\n",
    "    y_pred = clf.predict(X_test)\n",
    "    clf_pred = pd.DataFrame(clf_pred)\n",
    "    \n",
    "    total_test = selected_only_state['party'].value_counts()\n",
    "    pred_total_test = clf_pred.value_counts()\n",
    "    \n",
    "    pred_total_rep = (pred_total_test[1]*100) / len(total_test)\n",
    "    pred_total_dem = (pred_total_test[2]*100) / len(total_test)\n",
    "    \n",
    "    if selected_only_state.iloc[0]['party'] == 1:\n",
    "        state_party = 'Republican'\n",
    "    else:\n",
    "        state_party = 'Democrat'\n",
    "    \n",
    "    if pred_total_rep > pred_total_dem:\n",
    "        pred_state_party = 'Republican'\n",
    "    else:\n",
    "        pred_state_party = 'Democrat'\n",
    "        \n",
    "    return state_party, pred_state_party, y_pred, y_test"
   ]
  },
  {
   "cell_type": "code",
   "execution_count": 67,
   "id": "434876dd",
   "metadata": {},
   "outputs": [
    {
     "name": "stdout",
     "output_type": "stream",
     "text": [
      "--------------------------------------------------------\n",
      "State: IN | Accuracy Score: 88.91625615763546\n",
      "--------------------------------------------------------\n",
      "State: VA | Accuracy Score: 94.8051948051948\n",
      "--------------------------------------------------------\n",
      "State: LA | Accuracy Score: 98.94736842105263\n",
      "--------------------------------------------------------\n",
      "State: MO | Accuracy Score: 99.71751412429379\n",
      "--------------------------------------------------------\n",
      "State: CA | Accuracy Score: 99.4535519125683\n",
      "--------------------------------------------------------\n",
      "State: PA | Accuracy Score: 62.04620462046204\n",
      "--------------------------------------------------------\n",
      "State: NC | Accuracy Score: 91.80035650623886\n",
      "--------------------------------------------------------\n",
      "State: TN | Accuracy Score: 97.47191011235955\n",
      "--------------------------------------------------------\n",
      "State: CO | Accuracy Score: 93.8375350140056\n",
      "--------------------------------------------------------\n",
      "State: GA | Accuracy Score: 66.5406427221172\n",
      "--------------------------------------------------------\n",
      "State: AZ | Accuracy Score: 72.22222222222221\n",
      "--------------------------------------------------------\n",
      "State: OH | Accuracy Score: 70.92511013215858\n",
      "--------------------------------------------------------\n",
      "State: IL | Accuracy Score: 99.41348973607037\n",
      "--------------------------------------------------------\n",
      "State: WI | Accuracy Score: 60.946745562130175\n",
      "--------------------------------------------------------\n",
      "State: MI | Accuracy Score: 67.26057906458797\n",
      "--------------------------------------------------------\n",
      "State: IA | Accuracy Score: 69.54314720812182\n",
      "--------------------------------------------------------\n",
      "State: NV | Accuracy Score: 92.41379310344827\n",
      "--------------------------------------------------------\n",
      "State: MD | Accuracy Score: 99.58333333333333\n",
      "--------------------------------------------------------\n",
      "State: CT | Accuracy Score: 99.41176470588235\n",
      "--------------------------------------------------------\n",
      "State: SD | Accuracy Score: 98.55072463768117\n",
      "--------------------------------------------------------\n",
      "State: NM | Accuracy Score: 98.59154929577466\n",
      "--------------------------------------------------------\n",
      "State: AR | Accuracy Score: 97.11538461538461\n",
      "--------------------------------------------------------\n",
      "State: KY | Accuracy Score: 98.72340425531915\n",
      "--------------------------------------------------------------------\n",
      "accuracy average: 87.74946879426274\n"
     ]
    }
   ],
   "source": [
    "electionStates = pd.unique(df_cars_NB['state'])\n",
    "\n",
    "avg_calc = [0] #for the len() in accuracy average, we need to exclude this index\n",
    "\n",
    "for state in electionStates:\n",
    "    try:\n",
    "        state_party, pred_state_party, y_pred, y_test = clssify_state_NB(state, df_cars_NB)\n",
    "        print('--------------------------------------------------------')\n",
    "        score = accuracy_score(y_test, y_pred)\n",
    "        avg_calc = np.append(avg_calc, score)\n",
    "        print(f'State: {state} | Accuracy Score: {score*100}')\n",
    "        printprint('--------------------------------------------------------')\n",
    "    except:\n",
    "        continue\n",
    "\n",
    "print('--------------------------------------------------------------------')\n",
    "print(f'accuracy average: {(avg_calc.sum()/(len(avg_calc)-1))*100}')\n",
    "\n",
    "#This gives a very biased result."
   ]
  },
  {
   "cell_type": "markdown",
   "id": "ac755f67",
   "metadata": {},
   "source": [
    "# --------the-----end-----miguel."
   ]
  },
  {
   "cell_type": "code",
   "execution_count": null,
   "id": "6ea017e4",
   "metadata": {},
   "outputs": [],
   "source": []
  }
 ],
 "metadata": {
  "deepnote": {},
  "deepnote_execution_queue": [],
  "deepnote_notebook_id": "6a21ceb7-8cb3-4dd7-856e-96236f02392a",
  "kernelspec": {
   "display_name": "Python 3 (ipykernel)",
   "language": "python",
   "name": "python3"
  },
  "language_info": {
   "codemirror_mode": {
    "name": "ipython",
    "version": 3
   },
   "file_extension": ".py",
   "mimetype": "text/x-python",
   "name": "python",
   "nbconvert_exporter": "python",
   "pygments_lexer": "ipython3",
   "version": "3.9.7"
  }
 },
 "nbformat": 4,
 "nbformat_minor": 5
}
